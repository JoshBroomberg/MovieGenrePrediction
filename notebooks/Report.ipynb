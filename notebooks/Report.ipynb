{
 "cells": [
  {
   "cell_type": "markdown",
   "metadata": {},
   "source": [
    "# Project description\n",
    "The current project aims to predict the genre of movie given the overview text that describes the movie. For example, the overview for *The Matrix* is as follows:\n",
    ">Set in the 22nd century, The Matrix tells the story of a computer hacker who joins a group of underground insurgents fighting the vast and powerful computers who now rule the earth.\n",
    "\n",
    "From the above text, we would like to predict that the movie belongs to the \"Action\" and \"Science Fiction\" genres.\n",
    "\n",
    "## Business object in context\n",
    "We are an internet-based movie distributing company, _NetFlux_. For new movies and original content movies, we want to make sure our staff writes overviews that will represent the correct genre of the movie. This will make our recommender system work better and ultimately provide more insight for our users to what movies they want to see.\n",
    "\n"
   ]
  },
  {
   "cell_type": "code",
   "execution_count": null,
   "metadata": {},
   "outputs": [],
   "source": [
    "from IPython.display import Markdown as md\n",
    "import os\n",
    "from datetime import datetime\n",
    "import pickle \n",
    "\n",
    "movies_with_overviews_path = '../data/processed/movies_with_overviews.pkl'\n",
    "date_refreshed_unix = os.path.getmtime(movies_with_overviews_path)\n",
    "date_refreshed = datetime.utcfromtimestamp(date_refreshed_unix).strftime('%Y-%m-%d %H:%M:%S')\n",
    "now = datetime.now().strftime('%Y-%m-%d %H:%M:%S')\n",
    "\n",
    "with open('../data/processed/movies_with_overviews.pkl','rb') as f:\n",
    "    movies_with_overviews=pickle.load(f)\n",
    "with open('../data/processed/genre_id_to_name_dict.pkl','rb') as f:\n",
    "    Genre_ID_to_name=pickle.load(f)\n",
    "genre_list=sorted(list(Genre_ID_to_name.keys()))\n",
    "    \n",
    "num_movies = len(movies_with_overviews)\n",
    "\n",
    "display(md('''# Data\n",
    "Movie overviews and genres are scraped from TMDB. Our dataset was last refreshed at **{date_refreshed}**.\n",
    "\n",
    "Report was generated **{now}**.\n",
    "\n",
    "The data have **{num_movies}** movie overviews.\n",
    "\n",
    "'''.format(date_refreshed=date_refreshed, num_movies=num_movies, now=now)))\n"
   ]
  },
  {
   "cell_type": "markdown",
   "metadata": {},
   "source": [
    "The distribution of the genres in these movies is shown in the chart below:"
   ]
  },
  {
   "cell_type": "code",
   "execution_count": null,
   "metadata": {},
   "outputs": [],
   "source": [
    "%matplotlib inline\n",
    "import pandas as pd\n",
    "from matplotlib import pyplot as plt\n",
    "from collections import Counter\n",
    "mwo = pd.DataFrame(movies_with_overviews)\n",
    "genre_ids_series = mwo['genre_ids']\n",
    "flat_genre_ids = [st for row in genre_ids_series for st in row]\n",
    "\n",
    "flat_genre_names = [Genre_ID_to_name[id] for id in flat_genre_ids] \n",
    "genre_counts = Counter(flat_genre_names)\n",
    "df = pd.DataFrame.from_dict(genre_counts, orient='index')\n",
    "ax = df.plot(kind='bar')\n",
    "ax.set_ylabel('Counts of each genre')\n",
    "ax.legend().set_visible(False)\n"
   ]
  },
  {
   "cell_type": "markdown",
   "metadata": {},
   "source": [
    "The top 10 movies in our dataset by popularity are listed below:"
   ]
  },
  {
   "cell_type": "code",
   "execution_count": null,
   "metadata": {},
   "outputs": [],
   "source": [
    "a=[print(x) for x in mwo.sort_values(by='popularity', ascending=False)['original_title'].head(10)]"
   ]
  },
  {
   "cell_type": "markdown",
   "metadata": {},
   "source": [
    "# Models and Features\n",
    "\n",
    "We are currently using the following models to train against the dataset with the associated feature engineering:\n",
    "1. C-SVM\n",
    "    - The overviews are using a **bag of words** model and have been vectorized and transformed using **TF_IDF**.\n",
    "2. Naive Bayes\n",
    "    - The overviews are using a **bag of words** model and have been vectorized with a **Count Vectorizer**.\n",
    "3. Simple neural network (not deep)\n",
    "    - The overviews were tokenized with a **white space tokenizer**. Stop words were removed. Overviews were treated as **bag of words**, which each word being converted to a vector, using the GoogleNews-vectors-negative300.bin model.  The **arithmetic mean** of the words represented the overview. Taking the top 3 genres predicted for each movie.\n",
    "\n"
   ]
  },
  {
   "cell_type": "markdown",
   "metadata": {},
   "source": [
    "### C-SVM\n",
    "\n",
    "#### Metrics for each genre"
   ]
  },
  {
   "cell_type": "code",
   "execution_count": null,
   "metadata": {},
   "outputs": [],
   "source": [
    "with open('../models/classifier_svc.pkl','rb') as f:\n",
    "    classif=pickle.load(f)\n",
    "with open('../data/processed/X_tfidf.pkl','rb') as f:\n",
    "    X=pickle.load(f)\n",
    "with open('../data/processed/Y.pkl','rb') as f:\n",
    "    Y=pickle.load(f)\n",
    "    \n",
    "from src.utils.eval_metrics import *\n",
    "from sklearn.model_selection import train_test_split\n",
    "from sklearn.metrics import classification_report\n",
    "import numpy as np\n",
    "\n",
    "indecies = range(len(movies_with_overviews))\n",
    "X_train, X_test, Y_train, Y_test, train_movies, test_movies = train_test_split(X, Y, indecies, test_size=0.20, random_state=42)\n",
    "genre_names=list(Genre_ID_to_name.values())\n",
    "predstfidf=classif.predict(X_test)\n",
    "print (classification_report(Y_test, predstfidf, target_names=genre_names))"
   ]
  },
  {
   "cell_type": "markdown",
   "metadata": {},
   "source": [
    "#### Precision and Recall for the overall model"
   ]
  },
  {
   "cell_type": "code",
   "execution_count": null,
   "metadata": {},
   "outputs": [],
   "source": [
    "predictions = generate_predictions(Genre_ID_to_name, X_test, predstfidf)\n",
    "precs, recs = precsc_recs(test_movies, movies_with_overviews, Genre_ID_to_name, predictions)\n",
    "\n",
    "prec_mean = np.mean(np.asarray(precs))\n",
    "rec_mean = np.mean(np.asarray(recs))\n",
    "\n",
    "md('''Precision: {prec_mean}\n",
    "\n",
    "Recall: {rec_mean}\n",
    "\n",
    "'''.format(prec_mean=prec_mean, rec_mean=rec_mean))"
   ]
  },
  {
   "cell_type": "markdown",
   "metadata": {},
   "source": [
    "#### Example predictions for a small sample"
   ]
  },
  {
   "cell_type": "code",
   "execution_count": null,
   "metadata": {},
   "outputs": [],
   "source": [
    "predictions=[]\n",
    "actuals = []\n",
    "for i in range(X_test.shape[0]):\n",
    "    pred_genres=[]\n",
    "    actual_genres=[]\n",
    "    movie_label_scores=predstfidf[i]\n",
    "    actual_scores = Y_test[i]\n",
    "#     print movie_label_scores\n",
    "    for j in range(len(movie_label_scores)):\n",
    "        #print j\n",
    "        if movie_label_scores[j]!=0:\n",
    "            genre=Genre_ID_to_name[genre_list[j]]\n",
    "            pred_genres.append(genre)\n",
    "        if actual_scores[j]!=0:\n",
    "            genre=Genre_ID_to_name[genre_list[j]]\n",
    "            actual_genres.append(genre)\n",
    "    predictions.append(pred_genres)\n",
    "    actuals.append(actual_genres)\n",
    "for i in range(X_test.shape[0]):\n",
    "    if i%50==0 and i!=0:\n",
    "        print ('MOVIE: ',movies_with_overviews[test_movies[i]]['title'],\n",
    "               '\\nPREDICTION: ',','.join(predictions[i]), \n",
    "               '\\nActual: ', ','.join(actuals[i]), '\\n')"
   ]
  },
  {
   "cell_type": "markdown",
   "metadata": {},
   "source": [
    "### Naive Bayes\n",
    "\n",
    "#### Metrics for each genre"
   ]
  },
  {
   "cell_type": "code",
   "execution_count": null,
   "metadata": {},
   "outputs": [],
   "source": [
    "with open('../models/classifier_nb.pkl','rb') as f:\n",
    "    classif=pickle.load(f)\n",
    "with open('../data/processed/X.pkl','rb') as f:\n",
    "    X=pickle.load(f)\n",
    "with open('../data/processed/Y.pkl','rb') as f:\n",
    "    Y=pickle.load(f)\n",
    "    \n",
    "from src.utils.eval_metrics import *\n",
    "from sklearn.model_selection import train_test_split\n",
    "from sklearn.metrics import classification_report\n",
    "import numpy as np\n",
    "\n",
    "indecies = range(len(movies_with_overviews))\n",
    "X_train, X_test, Y_train, Y_test, train_movies, test_movies = train_test_split(X, Y, indecies, test_size=0.20, random_state=42)\n",
    "genre_names=list(Genre_ID_to_name.values())\n",
    "preds=classif.predict(X_test)\n",
    "print (classification_report(Y_test, preds, target_names=genre_names))"
   ]
  },
  {
   "cell_type": "markdown",
   "metadata": {},
   "source": [
    "#### Precision and Recall for the overall model"
   ]
  },
  {
   "cell_type": "code",
   "execution_count": null,
   "metadata": {},
   "outputs": [],
   "source": [
    "predictions = generate_predictions(Genre_ID_to_name, X_test, preds)\n",
    "precs, recs = precsc_recs(test_movies, movies_with_overviews, Genre_ID_to_name, predictions)\n",
    "\n",
    "prec_mean = np.mean(np.asarray(precs))\n",
    "rec_mean = np.mean(np.asarray(recs))\n",
    "\n",
    "md('''Precision: {prec_mean}\n",
    "\n",
    "Recall: {rec_mean}\n",
    "\n",
    "'''.format(prec_mean=prec_mean, rec_mean=rec_mean))"
   ]
  },
  {
   "cell_type": "markdown",
   "metadata": {},
   "source": [
    "#### Example predictions for a small sample"
   ]
  },
  {
   "cell_type": "code",
   "execution_count": null,
   "metadata": {},
   "outputs": [],
   "source": [
    "predictions=[]\n",
    "actuals = []\n",
    "for i in range(X_test.shape[0]):\n",
    "    pred_genres=[]\n",
    "    actual_genres=[]\n",
    "    movie_label_scores=preds[i]\n",
    "    actual_scores = Y_test[i]\n",
    "#     print movie_label_scores\n",
    "    for j in range(len(movie_label_scores)):\n",
    "        #print j\n",
    "        if movie_label_scores[j]!=0:\n",
    "            genre=Genre_ID_to_name[genre_list[j]]\n",
    "            pred_genres.append(genre)\n",
    "        if actual_scores[j]!=0:\n",
    "            genre=Genre_ID_to_name[genre_list[j]]\n",
    "            actual_genres.append(genre)\n",
    "    predictions.append(pred_genres)\n",
    "    actuals.append(actual_genres)\n",
    "for i in range(X_test.shape[0]):\n",
    "    if i%50==0 and i!=0:\n",
    "        print ('MOVIE: ',movies_with_overviews[test_movies[i]]['title'],\n",
    "               '\\nPREDICTION: ',','.join(predictions[i]), \n",
    "               '\\nActual: ', ','.join(actuals[i]), '\\n')"
   ]
  },
  {
   "cell_type": "code",
   "execution_count": null,
   "metadata": {},
   "outputs": [],
   "source": [
    "print(movies_with_overviews[test_movies[100]])\n",
    "print(Genre_ID_to_name[35])\n",
    "print(Genre_ID_to_name[10751])\n",
    "test_movies[100]\n",
    "classif.predict(X_test[100])"
   ]
  },
  {
   "cell_type": "markdown",
   "metadata": {},
   "source": [
    "### Simple Neural Network with Word2Vec features\n",
    "\n",
    "#### Metrics for each genre"
   ]
  },
  {
   "cell_type": "code",
   "execution_count": null,
   "metadata": {},
   "outputs": [],
   "source": [
    "from keras.models import load_model\n",
    "from sklearn.preprocessing import MultiLabelBinarizer\n",
    "with open('../data/processed/textual_features.pkl','rb') as f:\n",
    "    (X,Y)=pickle.load(f)\n",
    "model_textual = load_model('../models/overview_nn.h5')\n",
    "\n",
    "indecies = range(len(movies_with_overviews))\n",
    "X_train, X_test, Y_train, Y_test, train_movies, test_movies = train_test_split(X, Y, indecies, test_size=0.20, random_state=42)\n",
    "genre_names=list(Genre_ID_to_name.values())\n",
    "Y_preds=model_textual.predict(X_test)\n",
    "\n",
    "Y_preds_binary = []\n",
    "for row in Y_preds:\n",
    "    predicted = np.argsort(row)[::-1][:3]\n",
    "    predicted_genre_Y = [1 if k in predicted else 0 for k in range(len(row)) ]\n",
    "    Y_preds_binary.append(predicted_genre_Y)\n",
    "\n",
    "print (classification_report(Y_test, np.array(Y_preds_binary), target_names=genre_names))"
   ]
  },
  {
   "cell_type": "markdown",
   "metadata": {},
   "source": [
    "#### Precision and Recall for the overall model"
   ]
  },
  {
   "cell_type": "code",
   "execution_count": null,
   "metadata": {},
   "outputs": [],
   "source": [
    "predictions = generate_predictions(Genre_ID_to_name, X_test, Y_preds_binary)\n",
    "precs, recs = precsc_recs(test_movies, movies_with_overviews, Genre_ID_to_name, predictions)\n",
    "\n",
    "prec_mean = np.mean(np.asarray(precs))\n",
    "rec_mean = np.mean(np.asarray(recs))\n",
    "\n",
    "md('''Precision: {prec_mean}\n",
    "\n",
    "Recall: {rec_mean}\n",
    "\n",
    "'''.format(prec_mean=prec_mean, rec_mean=rec_mean))"
   ]
  },
  {
   "cell_type": "markdown",
   "metadata": {},
   "source": [
    "#### Example predictions for a small sample"
   ]
  },
  {
   "cell_type": "code",
   "execution_count": null,
   "metadata": {},
   "outputs": [],
   "source": [
    "for i in range(X_test.shape[0]):\n",
    "    if i%50==0 and i!=0:\n",
    "        print ('MOVIE: ',movies_with_overviews[test_movies[i]]['title'],\n",
    "               '\\nPREDICTION: ',','.join(predictions[i]), \n",
    "               '\\nActual: ', ','.join(actuals[i]), '\\n')"
   ]
  },
  {
   "cell_type": "code",
   "execution_count": null,
   "metadata": {},
   "outputs": [],
   "source": [
    "from IPython.core.display import HTML\n",
    "\n",
    "\n",
    "def css_styling():\n",
    "    styles = open(\"../notebooks/static/custom.css\", \"r\").read()\n",
    "    return HTML(styles)\n",
    "css_styling()"
   ]
  }
 ],
 "metadata": {
  "kernelspec": {
   "display_name": "Python 3",
   "language": "python",
   "name": "python3"
  },
  "language_info": {
   "codemirror_mode": {
    "name": "ipython",
    "version": 3
   },
   "file_extension": ".py",
   "mimetype": "text/x-python",
   "name": "python",
   "nbconvert_exporter": "python",
   "pygments_lexer": "ipython3",
   "version": "3.6.6"
  }
 },
 "nbformat": 4,
 "nbformat_minor": 2
}

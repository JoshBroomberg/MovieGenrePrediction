{
 "cells": [
  {
   "cell_type": "markdown",
   "metadata": {},
   "source": [
    "# Project description\n",
    "The current project aims to predict the genre of movie given the overview text that describes the movie. For example, the overview for *The Matrix* is as follows:\n",
    ">Set in the 22nd century, The Matrix tells the story of a computer hacker who joins a group of underground insurgents fighting the vast and powerful computers who now rule the earth.\n",
    "\n",
    "From the above text, we would like to predict that the movie belongs to the \"Action\" and \"Science Fiction\" genres.\n",
    "\n",
    "## Business object in context\n",
    "We are an internet-based movie distributing company, _NetFlux_. For new movies and original content movies, we want to make sure our staff writes overviews that will represent the correct genre of the movie. This will make our recommender system work better and ultimately provide more insight for our users to what movies they want to see.\n",
    "\n"
   ]
  },
  {
   "cell_type": "code",
   "execution_count": 10,
   "metadata": {},
   "outputs": [
    {
     "data": {
      "text/markdown": [
       "# Data\n",
       "Movie overviews and genres are scraped from TMDB. Our dataset was last refreshed at **2020-10-28 02:05:38**.\n",
       "\n",
       "Report was generated **2020-10-27 19:18:59**.\n",
       "\n",
       "The data have **1743** movie overviews.\n",
       "\n"
      ],
      "text/plain": [
       "<IPython.core.display.Markdown object>"
      ]
     },
     "metadata": {},
     "output_type": "display_data"
    }
   ],
   "source": [
    "from IPython.display import Markdown as md\n",
    "import os\n",
    "from datetime import datetime\n",
    "import pickle \n",
    "\n",
    "movies_with_overviews_path = '../data/interim/movies_with_overviews.pkl'\n",
    "date_refreshed_unix = os.path.getmtime(movies_with_overviews_path)\n",
    "date_refreshed = datetime.utcfromtimestamp(date_refreshed_unix).strftime('%Y-%m-%d %H:%M:%S')\n",
    "now = datetime.now().strftime('%Y-%m-%d %H:%M:%S')\n",
    "\n",
    "with open(movies_with_overviews_path,'rb') as f:\n",
    "    movies_with_overviews=pickle.load(f)\n",
    "with open('../data/processed/genre_id_to_name_dict.pkl','rb') as f:\n",
    "    Genre_ID_to_name=pickle.load(f)\n",
    "genre_list=sorted(list(Genre_ID_to_name.keys()))\n",
    "    \n",
    "num_movies = len(movies_with_overviews)\n",
    "\n",
    "display(md('''# Data\n",
    "Movie overviews and genres are scraped from TMDB. Our dataset was last refreshed at **{date_refreshed}**.\n",
    "\n",
    "Report was generated **{now}**.\n",
    "\n",
    "The data have **{num_movies}** movie overviews.\n",
    "\n",
    "'''.format(date_refreshed=date_refreshed, num_movies=num_movies, now=now)))\n"
   ]
  },
  {
   "cell_type": "markdown",
   "metadata": {},
   "source": [
    "The distribution of the genres in these movies is shown in the chart below:"
   ]
  },
  {
   "cell_type": "code",
   "execution_count": 11,
   "metadata": {},
   "outputs": [
    {
     "data": {
      "image/png": "[encoded data removed]",
      "text/plain": [
       "<Figure size 432x288 with 1 Axes>"
      ]
     },
     "metadata": {
      "needs_background": "light"
     },
     "output_type": "display_data"
    }
   ],
   "source": [
    "%matplotlib inline\n",
    "import pandas as pd\n",
    "from matplotlib import pyplot as plt\n",
    "from collections import Counter\n",
    "mwo = pd.DataFrame(movies_with_overviews)\n",
    "genre_ids_series = mwo['genre_ids']\n",
    "flat_genre_ids = [st for row in genre_ids_series for st in row]\n",
    "\n",
    "flat_genre_names = [Genre_ID_to_name[id] for id in flat_genre_ids] \n",
    "genre_counts = Counter(flat_genre_names)\n",
    "df = pd.DataFrame.from_dict(genre_counts, orient='index')\n",
    "ax = df.plot(kind='bar')\n",
    "ax.set_ylabel('Counts of each genre')\n",
    "ax.legend().set_visible(False)\n"
   ]
  },
  {
   "cell_type": "markdown",
   "metadata": {},
   "source": [
    "The top 10 movies in our dataset by popularity are listed below:"
   ]
  },
  {
   "cell_type": "code",
   "execution_count": 12,
   "metadata": {},
   "outputs": [
    {
     "name": "stdout",
     "output_type": "stream",
     "text": [
      "Вий\n",
      "Borat: Cultural Learnings of America for Make Benefit Glorious Nation of Kazakhstan\n",
      "Haute tension\n",
      "呪怨2\n",
      "Road to Ninja: Naruto the Movie\n",
      "Hacksaw Ridge\n",
      "Frozen\n",
      "Coraline\n",
      "Big Hero 6\n",
      "Whiteout\n"
     ]
    }
   ],
   "source": [
    "a=[print(x) for x in mwo.sort_values(by='popularity', ascending=False)['original_title'].head(10)]"
   ]
  },
  {
   "cell_type": "markdown",
   "metadata": {},
   "source": [
    "# Models and Features\n",
    "\n",
    "We are currently using the following models to train against the dataset with the associated feature engineering:\n",
    "1. C-SVM\n",
    "    - The overviews are using a **bag of words** model and have been vectorized and transformed using **TF_IDF**.\n",
    "2. Naive Bayes\n",
    "    - The overviews are using a **bag of words** model and have been vectorized with a **Count Vectorizer**.\n",
    "3. Simple neural network (not deep)\n",
    "    - The overviews were tokenized with a **white space tokenizer**. Stop words were removed. Overviews were treated as **bag of words**, which each word being converted to a vector, using the GoogleNews-vectors-negative300.bin model.  The **arithmetic mean** of the words represented the overview. Taking the top 3 genres predicted for each movie.\n",
    "\n"
   ]
  },
  {
   "cell_type": "markdown",
   "metadata": {},
   "source": [
    "### C-SVM\n",
    "\n",
    "#### Metrics for each genre"
   ]
  },
  {
   "cell_type": "code",
   "execution_count": 13,
   "metadata": {},
   "outputs": [
    {
     "name": "stdout",
     "output_type": "stream",
     "text": [
      "                 precision    recall  f1-score   support\n",
      "\n",
      "         Action       0.20      1.00      0.34        71\n",
      "      Adventure       0.49      0.57      0.52        65\n",
      "      Animation       0.40      0.55      0.46        53\n",
      "         Comedy       0.56      0.58      0.57       133\n",
      "          Crime       0.00      0.00      0.00        48\n",
      "    Documentary       0.56      0.69      0.62        87\n",
      "          Drama       0.43      0.65      0.52        92\n",
      "         Family       0.38      0.44      0.41        34\n",
      "        Fantasy       0.38      0.38      0.38        13\n",
      "        History       0.54      0.60      0.56        89\n",
      "         Horror       0.49      0.52      0.50        52\n",
      "          Music       0.56      0.52      0.54        29\n",
      "        Mystery       0.51      0.40      0.45        45\n",
      "        Romance       0.39      0.51      0.44        41\n",
      "Science Fiction       0.50      0.62      0.55        26\n",
      "       TV Movie       0.42      0.50      0.45        44\n",
      "       Thriller       0.58      0.70      0.64        77\n",
      "            War       0.52      0.52      0.52        27\n",
      "        Western       0.22      0.18      0.20        33\n",
      "\n",
      "      micro avg       0.42      0.57      0.48      1059\n",
      "      macro avg       0.43      0.52      0.46      1059\n",
      "   weighted avg       0.45      0.57      0.48      1059\n",
      "    samples avg       0.41      0.56      0.45      1059\n",
      "\n"
     ]
    },
    {
     "name": "stderr",
     "output_type": "stream",
     "text": [
      "/Users/joshuabroomberg/work/Domino/ml-ci/prototyping/MovieGenrePrediction/venv/lib/python3.8/site-packages/sklearn/metrics/_classification.py:1221: UndefinedMetricWarning: Precision and F-score are ill-defined and being set to 0.0 in labels with no predicted samples. Use `zero_division` parameter to control this behavior.\n",
      "  _warn_prf(average, modifier, msg_start, len(result))\n"
     ]
    }
   ],
   "source": [
    "with open('../models/classifier_svc.pkl','rb') as f:\n",
    "    classif=pickle.load(f)\n",
    "with open('../data/processed/X_tfidf.pkl','rb') as f:\n",
    "    X=pickle.load(f)\n",
    "with open('../data/processed/Y.pkl','rb') as f:\n",
    "    Y=pickle.load(f)\n",
    "    \n",
    "from src.utils.eval_metrics import *\n",
    "from sklearn.model_selection import train_test_split\n",
    "from sklearn.metrics import classification_report\n",
    "import numpy as np\n",
    "\n",
    "indecies = range(len(movies_with_overviews))\n",
    "X_train, X_test, Y_train, Y_test, train_movies, test_movies = train_test_split(X, Y, indecies, test_size=0.20, random_state=42)\n",
    "genre_names=list(Genre_ID_to_name.values())\n",
    "predstfidf=classif.predict(X_test)\n",
    "print (classification_report(Y_test, predstfidf, target_names=genre_names))"
   ]
  },
  {
   "cell_type": "markdown",
   "metadata": {},
   "source": [
    "#### Precision and Recall for the overall model"
   ]
  },
  {
   "cell_type": "code",
   "execution_count": 14,
   "metadata": {},
   "outputs": [
    {
     "data": {
      "text/markdown": [
       "Precision: 0.40582617000955107\n",
       "\n",
       "Recall: 0.5633169600218311\n",
       "\n"
      ],
      "text/plain": [
       "<IPython.core.display.Markdown object>"
      ]
     },
     "execution_count": 14,
     "metadata": {},
     "output_type": "execute_result"
    }
   ],
   "source": [
    "predictions = generate_predictions(Genre_ID_to_name, X_test, predstfidf)\n",
    "precs, recs = precsc_recs(test_movies, movies_with_overviews, Genre_ID_to_name, predictions)\n",
    "\n",
    "prec_mean = np.mean(np.asarray(precs))\n",
    "rec_mean = np.mean(np.asarray(recs))\n",
    "\n",
    "md('''Precision: {prec_mean}\n",
    "\n",
    "Recall: {rec_mean}\n",
    "\n",
    "'''.format(prec_mean=prec_mean, rec_mean=rec_mean))"
   ]
  },
  {
   "cell_type": "markdown",
   "metadata": {},
   "source": [
    "#### Example predictions for a small sample"
   ]
  },
  {
   "cell_type": "code",
   "execution_count": 15,
   "metadata": {},
   "outputs": [
    {
     "name": "stdout",
     "output_type": "stream",
     "text": [
      "MOVIE:  Honeymoon for One \n",
      "PREDICTION:  Adventure,Drama,Comedy,Mystery,Romance \n",
      "Actual:  Comedy,Romance,TV Movie \n",
      "\n",
      "MOVIE:  Little Children \n",
      "PREDICTION:  Adventure,Thriller \n",
      "Actual:  Drama,Comedy,Romance \n",
      "\n",
      "MOVIE:  Secrets of War \n",
      "PREDICTION:  Adventure,Comedy,History,Crime \n",
      "Actual:  Drama,History,Family,War \n",
      "\n",
      "MOVIE:  The Grey \n",
      "PREDICTION:  Adventure,TV Movie \n",
      "Actual:  Adventure,Drama,Action,Thriller \n",
      "\n",
      "MOVIE:  Jeepers Creepers \n",
      "PREDICTION:  Adventure,Comedy,Family \n",
      "Actual:  Horror,Thriller \n",
      "\n",
      "MOVIE:  Pokémon the Movie: Hoopa and the Clash of Ages \n",
      "PREDICTION:  Adventure,Action,Comedy,Science Fiction \n",
      "Actual:  Adventure,Fantasy,Animation,Action,Family \n",
      "\n"
     ]
    }
   ],
   "source": [
    "predictions=[]\n",
    "actuals = []\n",
    "for i in range(X_test.shape[0]):\n",
    "    pred_genres=[]\n",
    "    actual_genres=[]\n",
    "    movie_label_scores=predstfidf[i]\n",
    "    actual_scores = Y_test[i]\n",
    "#     print movie_label_scores\n",
    "    for j in range(len(movie_label_scores)):\n",
    "        #print j\n",
    "        if movie_label_scores[j]!=0:\n",
    "            genre=Genre_ID_to_name[genre_list[j]]\n",
    "            pred_genres.append(genre)\n",
    "        if actual_scores[j]!=0:\n",
    "            genre=Genre_ID_to_name[genre_list[j]]\n",
    "            actual_genres.append(genre)\n",
    "    predictions.append(pred_genres)\n",
    "    actuals.append(actual_genres)\n",
    "for i in range(X_test.shape[0]):\n",
    "    if i%50==0 and i!=0:\n",
    "        print ('MOVIE: ',movies_with_overviews[test_movies[i]]['title'],\n",
    "               '\\nPREDICTION: ',','.join(predictions[i]), \n",
    "               '\\nActual: ', ','.join(actuals[i]), '\\n')"
   ]
  },
  {
   "cell_type": "markdown",
   "metadata": {},
   "source": [
    "### Naive Bayes\n",
    "\n",
    "#### Metrics for each genre"
   ]
  },
  {
   "cell_type": "code",
   "execution_count": 16,
   "metadata": {},
   "outputs": [
    {
     "name": "stdout",
     "output_type": "stream",
     "text": [
      "                 precision    recall  f1-score   support\n",
      "\n",
      "         Action       0.48      0.49      0.49        71\n",
      "      Adventure       0.70      0.60      0.64        65\n",
      "      Animation       0.49      0.49      0.49        53\n",
      "         Comedy       0.56      0.57      0.57       133\n",
      "          Crime       0.45      0.42      0.43        48\n",
      "    Documentary       0.61      0.69      0.65        87\n",
      "          Drama       0.56      0.62      0.59        92\n",
      "         Family       0.41      0.50      0.45        34\n",
      "        Fantasy       0.17      0.08      0.11        13\n",
      "        History       0.69      0.65      0.67        89\n",
      "         Horror       0.62      0.54      0.58        52\n",
      "          Music       0.47      0.66      0.55        29\n",
      "        Mystery       0.45      0.49      0.47        45\n",
      "        Romance       0.52      0.34      0.41        41\n",
      "Science Fiction       0.56      0.69      0.62        26\n",
      "       TV Movie       0.38      0.57      0.46        44\n",
      "       Thriller       0.59      0.66      0.62        77\n",
      "            War       0.44      0.56      0.49        27\n",
      "        Western       0.35      0.21      0.26        33\n",
      "\n",
      "      micro avg       0.54      0.56      0.55      1059\n",
      "      macro avg       0.50      0.52      0.50      1059\n",
      "   weighted avg       0.54      0.56      0.54      1059\n",
      "    samples avg       0.52      0.57      0.51      1059\n",
      "\n"
     ]
    },
    {
     "name": "stderr",
     "output_type": "stream",
     "text": [
      "/Users/joshuabroomberg/work/Domino/ml-ci/prototyping/MovieGenrePrediction/venv/lib/python3.8/site-packages/sklearn/metrics/_classification.py:1221: UndefinedMetricWarning: Precision and F-score are ill-defined and being set to 0.0 in samples with no predicted labels. Use `zero_division` parameter to control this behavior.\n",
      "  _warn_prf(average, modifier, msg_start, len(result))\n"
     ]
    }
   ],
   "source": [
    "with open('../models/classifier_nb.pkl','rb') as f:\n",
    "    classif=pickle.load(f)\n",
    "with open('../data/processed/X.pkl','rb') as f:\n",
    "    X=pickle.load(f)\n",
    "with open('../data/processed/Y.pkl','rb') as f:\n",
    "    Y=pickle.load(f)\n",
    "    \n",
    "from src.utils.eval_metrics import *\n",
    "from sklearn.model_selection import train_test_split\n",
    "from sklearn.metrics import classification_report\n",
    "import numpy as np\n",
    "\n",
    "indecies = range(len(movies_with_overviews))\n",
    "X_train, X_test, Y_train, Y_test, train_movies, test_movies = train_test_split(X, Y, indecies, test_size=0.20, random_state=42)\n",
    "genre_names=list(Genre_ID_to_name.values())\n",
    "preds=classif.predict(X_test)\n",
    "print (classification_report(Y_test, preds, target_names=genre_names))"
   ]
  },
  {
   "cell_type": "markdown",
   "metadata": {},
   "source": [
    "#### Precision and Recall for the overall model"
   ]
  },
  {
   "cell_type": "code",
   "execution_count": 17,
   "metadata": {},
   "outputs": [
    {
     "data": {
      "text/markdown": [
       "Precision: 0.5238334015554645\n",
       "\n",
       "Recall: 0.5660390230590804\n",
       "\n"
      ],
      "text/plain": [
       "<IPython.core.display.Markdown object>"
      ]
     },
     "execution_count": 17,
     "metadata": {},
     "output_type": "execute_result"
    }
   ],
   "source": [
    "predictions = generate_predictions(Genre_ID_to_name, X_test, preds)\n",
    "precs, recs = precsc_recs(test_movies, movies_with_overviews, Genre_ID_to_name, predictions)\n",
    "\n",
    "prec_mean = np.mean(np.asarray(precs))\n",
    "rec_mean = np.mean(np.asarray(recs))\n",
    "\n",
    "md('''Precision: {prec_mean}\n",
    "\n",
    "Recall: {rec_mean}\n",
    "\n",
    "'''.format(prec_mean=prec_mean, rec_mean=rec_mean))"
   ]
  },
  {
   "cell_type": "markdown",
   "metadata": {},
   "source": [
    "#### Example predictions for a small sample"
   ]
  },
  {
   "cell_type": "code",
   "execution_count": 18,
   "metadata": {},
   "outputs": [
    {
     "name": "stdout",
     "output_type": "stream",
     "text": [
      "MOVIE:  Honeymoon for One \n",
      "PREDICTION:  Drama,Horror,Comedy,Mystery,Romance,Family,TV Movie \n",
      "Actual:  Comedy,Romance,TV Movie \n",
      "\n",
      "MOVIE:  Little Children \n",
      "PREDICTION:  Drama \n",
      "Actual:  Drama,Comedy,Romance \n",
      "\n",
      "MOVIE:  Secrets of War \n",
      "PREDICTION:  Comedy \n",
      "Actual:  Drama,History,Family,War \n",
      "\n",
      "MOVIE:  The Grey \n",
      "PREDICTION:   \n",
      "Actual:  Adventure,Drama,Action,Thriller \n",
      "\n",
      "MOVIE:  Jeepers Creepers \n",
      "PREDICTION:  Horror,Comedy,Family \n",
      "Actual:  Horror,Thriller \n",
      "\n",
      "MOVIE:  Pokémon the Movie: Hoopa and the Clash of Ages \n",
      "PREDICTION:  Fantasy,Horror,Action,Science Fiction \n",
      "Actual:  Adventure,Fantasy,Animation,Action,Family \n",
      "\n"
     ]
    }
   ],
   "source": [
    "predictions=[]\n",
    "actuals = []\n",
    "for i in range(X_test.shape[0]):\n",
    "    pred_genres=[]\n",
    "    actual_genres=[]\n",
    "    movie_label_scores=preds[i]\n",
    "    actual_scores = Y_test[i]\n",
    "#     print movie_label_scores\n",
    "    for j in range(len(movie_label_scores)):\n",
    "        #print j\n",
    "        if movie_label_scores[j]!=0:\n",
    "            genre=Genre_ID_to_name[genre_list[j]]\n",
    "            pred_genres.append(genre)\n",
    "        if actual_scores[j]!=0:\n",
    "            genre=Genre_ID_to_name[genre_list[j]]\n",
    "            actual_genres.append(genre)\n",
    "    predictions.append(pred_genres)\n",
    "    actuals.append(actual_genres)\n",
    "for i in range(X_test.shape[0]):\n",
    "    if i%50==0 and i!=0:\n",
    "        print ('MOVIE: ',movies_with_overviews[test_movies[i]]['title'],\n",
    "               '\\nPREDICTION: ',','.join(predictions[i]), \n",
    "               '\\nActual: ', ','.join(actuals[i]), '\\n')"
   ]
  },
  {
   "cell_type": "code",
   "execution_count": 19,
   "metadata": {},
   "outputs": [
    {
     "name": "stdout",
     "output_type": "stream",
     "text": [
      "{'popularity': 13.019, 'id': 1440, 'video': False, 'vote_count': 578, 'vote_average': 7.2, 'title': 'Little Children', 'release_date': '2006-10-06', 'original_language': 'en', 'original_title': 'Little Children', 'genre_ids': [10749, 18, 35], 'backdrop_path': '/lHAYacdv2ldnr9GZO5hymTK5rFc.jpg', 'adult': False, 'overview': 'The lives of two lovelorn spouses from separate marriages, a registered sex offender, and a disgraced ex-police officer intersect as they struggle to resist their vulnerabilities and temptations.', 'poster_path': '/so9xla7b7WfFiarDwOukhQpRuyd.jpg'}\n",
      "Comedy\n",
      "Family\n"
     ]
    },
    {
     "data": {
      "text/plain": [
       "array([[0, 0, 0, 1, 0, 0, 0, 0, 0, 0, 0, 0, 0, 0, 0, 0, 0, 0, 0]])"
      ]
     },
     "execution_count": 19,
     "metadata": {},
     "output_type": "execute_result"
    }
   ],
   "source": [
    "print(movies_with_overviews[test_movies[100]])\n",
    "print(Genre_ID_to_name[35])\n",
    "print(Genre_ID_to_name[10751])\n",
    "test_movies[100]\n",
    "classif.predict(X_test[100])"
   ]
  },
  {
   "cell_type": "markdown",
   "metadata": {},
   "source": [
    "### Simple Neural Network with Word2Vec features\n",
    "\n",
    "#### Metrics for each genre"
   ]
  },
  {
   "cell_type": "code",
   "execution_count": 20,
   "metadata": {},
   "outputs": [
    {
     "name": "stdout",
     "output_type": "stream",
     "text": [
      "                 precision    recall  f1-score   support\n",
      "\n",
      "         Action       0.62      0.49      0.55        71\n",
      "      Adventure       0.43      0.35      0.39        65\n",
      "      Animation       0.52      0.53      0.52        53\n",
      "         Comedy       0.55      0.61      0.58       133\n",
      "          Crime       0.60      0.54      0.57        48\n",
      "    Documentary       0.61      0.62      0.61        87\n",
      "          Drama       0.48      0.63      0.54        92\n",
      "         Family       0.31      0.29      0.30        34\n",
      "        Fantasy       0.67      0.31      0.42        13\n",
      "        History       0.55      0.58      0.57        89\n",
      "         Horror       0.70      0.44      0.54        52\n",
      "          Music       0.53      0.69      0.60        29\n",
      "        Mystery       0.45      0.40      0.42        45\n",
      "        Romance       0.44      0.41      0.43        41\n",
      "Science Fiction       0.69      0.85      0.76        26\n",
      "       TV Movie       0.40      0.43      0.42        44\n",
      "       Thriller       0.61      0.60      0.60        77\n",
      "            War       0.57      0.44      0.50        27\n",
      "        Western       0.31      0.24      0.27        33\n",
      "\n",
      "      micro avg       0.53      0.53      0.53      1059\n",
      "      macro avg       0.53      0.50      0.51      1059\n",
      "   weighted avg       0.53      0.53      0.52      1059\n",
      "    samples avg       0.53      0.55      0.52      1059\n",
      "\n"
     ]
    }
   ],
   "source": [
    "from keras.models import load_model\n",
    "from sklearn.preprocessing import MultiLabelBinarizer\n",
    "with open('../data/processed/textual_features.pkl','rb') as f:\n",
    "    (X,Y)=pickle.load(f)\n",
    "model_textual = load_model('../models/overview_nn.h5')\n",
    "\n",
    "indecies = range(len(movies_with_overviews))\n",
    "X_train, X_test, Y_train, Y_test, train_movies, test_movies = train_test_split(X, Y, indecies, test_size=0.20, random_state=42)\n",
    "genre_names=list(Genre_ID_to_name.values())\n",
    "Y_preds=model_textual.predict(X_test)\n",
    "\n",
    "Y_preds_binary = []\n",
    "for row in Y_preds:\n",
    "    predicted = np.argsort(row)[::-1][:3]\n",
    "    predicted_genre_Y = [1 if k in predicted else 0 for k in range(len(row)) ]\n",
    "    Y_preds_binary.append(predicted_genre_Y)\n",
    "\n",
    "print (classification_report(Y_test, np.array(Y_preds_binary), target_names=genre_names))"
   ]
  },
  {
   "cell_type": "markdown",
   "metadata": {},
   "source": [
    "#### Precision and Recall for the overall model"
   ]
  },
  {
   "cell_type": "code",
   "execution_count": 21,
   "metadata": {},
   "outputs": [
    {
     "data": {
      "text/markdown": [
       "Precision: 0.5310410697230181\n",
       "\n",
       "Recall: 0.5530904625460499\n",
       "\n"
      ],
      "text/plain": [
       "<IPython.core.display.Markdown object>"
      ]
     },
     "execution_count": 21,
     "metadata": {},
     "output_type": "execute_result"
    }
   ],
   "source": [
    "predictions = generate_predictions(Genre_ID_to_name, X_test, Y_preds_binary)\n",
    "precs, recs = precsc_recs(test_movies, movies_with_overviews, Genre_ID_to_name, predictions)\n",
    "\n",
    "prec_mean = np.mean(np.asarray(precs))\n",
    "rec_mean = np.mean(np.asarray(recs))\n",
    "\n",
    "md('''Precision: {prec_mean}\n",
    "\n",
    "Recall: {rec_mean}\n",
    "\n",
    "'''.format(prec_mean=prec_mean, rec_mean=rec_mean))"
   ]
  },
  {
   "cell_type": "markdown",
   "metadata": {},
   "source": [
    "#### Example predictions for a small sample"
   ]
  },
  {
   "cell_type": "code",
   "execution_count": 22,
   "metadata": {},
   "outputs": [
    {
     "name": "stdout",
     "output_type": "stream",
     "text": [
      "MOVIE:  Honeymoon for One \n",
      "PREDICTION:  Drama,Comedy,Romance \n",
      "Actual:  Comedy,Romance,TV Movie \n",
      "\n",
      "MOVIE:  Little Children \n",
      "PREDICTION:  Drama,Thriller,Romance \n",
      "Actual:  Drama,Comedy,Romance \n",
      "\n",
      "MOVIE:  Secrets of War \n",
      "PREDICTION:  Animation,Action,Family \n",
      "Actual:  Drama,History,Family,War \n",
      "\n",
      "MOVIE:  The Grey \n",
      "PREDICTION:  Adventure,Fantasy,Science Fiction \n",
      "Actual:  Adventure,Drama,Action,Thriller \n",
      "\n",
      "MOVIE:  Jeepers Creepers \n",
      "PREDICTION:  Horror,Comedy,Family \n",
      "Actual:  Horror,Thriller \n",
      "\n",
      "MOVIE:  Pokémon the Movie: Hoopa and the Clash of Ages \n",
      "PREDICTION:  Adventure,Animation,Action \n",
      "Actual:  Adventure,Fantasy,Animation,Action,Family \n",
      "\n"
     ]
    }
   ],
   "source": [
    "for i in range(X_test.shape[0]):\n",
    "    if i%50==0 and i!=0:\n",
    "        print ('MOVIE: ',movies_with_overviews[test_movies[i]]['title'],\n",
    "               '\\nPREDICTION: ',','.join(predictions[i]), \n",
    "               '\\nActual: ', ','.join(actuals[i]), '\\n')"
   ]
  },
  {
   "cell_type": "code",
   "execution_count": 23,
   "metadata": {},
   "outputs": [
    {
     "data": {
      "text/html": [
       "<style>\n",
       "    @font-face {\n",
       "        font-family: \"Computer Modern\";\n",
       "        src: url('http://9dbb143991406a7c655e-aa5fcb0a5a4ec34cff238a2d56ca4144.r56.cf5.rackcdn.com/cmunss.otf');\n",
       "    }\n",
       "    @font-face {\n",
       "        font-family: \"Computer Modern\";\n",
       "        font-weight: bold;\n",
       "        src: url('http://9dbb143991406a7c655e-aa5fcb0a5a4ec34cff238a2d56ca4144.r56.cf5.rackcdn.com/cmunsx.otf');\n",
       "    }\n",
       "    @font-face {\n",
       "        font-family: \"Computer Modern\";\n",
       "        font-style: oblique;\n",
       "        src: url('http://9dbb143991406a7c655e-aa5fcb0a5a4ec34cff238a2d56ca4144.r56.cf5.rackcdn.com/cmunsi.otf');\n",
       "    }\n",
       "    @font-face {\n",
       "        font-family: \"Computer Modern\";\n",
       "        font-weight: bold;\n",
       "        font-style: oblique;\n",
       "        src: url('http://9dbb143991406a7c655e-aa5fcb0a5a4ec34cff238a2d56ca4144.r56.cf5.rackcdn.com/cmunso.otf');\n",
       "    }\n",
       "    div.cell{\n",
       "        width:800px;\n",
       "        margin-left:16% !important;\n",
       "        margin-right:auto;\n",
       "    }\n",
       "    h1 {\n",
       "        font-family: Helvetica, serif;\n",
       "    }\n",
       "    h4{\n",
       "        margin-top:12px;\n",
       "        margin-bottom: 3px;\n",
       "       }\n",
       "    div.text_cell_render{\n",
       "        font-family: Computer Modern, \"Helvetica Neue\", Arial, Helvetica, Geneva, sans-serif;\n",
       "        line-height: 145%;\n",
       "        font-size: 130%;\n",
       "        width:800px;\n",
       "        margin-left:auto;\n",
       "        margin-right:auto;\n",
       "    }\n",
       "    .CodeMirror{\n",
       "            font-family: \"Source Code Pro\", source-code-pro,Consolas, monospace;\n",
       "    }\n",
       "    .prompt{\n",
       "        display: None;\n",
       "    }\n",
       "    .text_cell_render h5 {\n",
       "        font-weight: 300;\n",
       "        font-size: 22pt;\n",
       "        color: #4057A1;\n",
       "        font-style: italic;\n",
       "        margin-bottom: .5em;\n",
       "        margin-top: 0.5em;\n",
       "        display: block;\n",
       "    }\n",
       "    \n",
       "    .warning{\n",
       "        color: rgb( 240, 20, 20 )\n",
       "        }  \n",
       "</style>\n",
       "<script>\n",
       "    MathJax.Hub.Config({\n",
       "                        TeX: {\n",
       "                           extensions: [\"AMSmath.js\"]\n",
       "                           },\n",
       "                tex2jax: {\n",
       "                    inlineMath: [ ['$','$'], [\"\\\\(\",\"\\\\)\"] ],\n",
       "                    displayMath: [ ['$$','$$'], [\"\\\\[\",\"\\\\]\"] ]\n",
       "                },\n",
       "                displayAlign: 'center', // Change this to 'center' to center equations.\n",
       "                \"HTML-CSS\": {\n",
       "                    styles: {'.MathJax_Display': {\"margin\": 4}}\n",
       "                }\n",
       "        });\n",
       "</script>"
      ],
      "text/plain": [
       "<IPython.core.display.HTML object>"
      ]
     },
     "execution_count": 23,
     "metadata": {},
     "output_type": "execute_result"
    }
   ],
   "source": [
    "from IPython.core.display import HTML\n",
    "\n",
    "\n",
    "def css_styling():\n",
    "    styles = open(\"../notebooks/static/custom.css\", \"r\").read()\n",
    "    return HTML(styles)\n",
    "css_styling()"
   ]
  },
  {
   "cell_type": "code",
   "execution_count": null,
   "metadata": {},
   "outputs": [],
   "source": []
  }
 ],
 "metadata": {
  "kernelspec": {
   "display_name": "Python 3",
   "language": "python",
   "name": "python3"
  },
  "language_info": {
   "codemirror_mode": {
    "name": "ipython",
    "version": 3
   },
   "file_extension": ".py",
   "mimetype": "text/x-python",
   "name": "python",
   "nbconvert_exporter": "python",
   "pygments_lexer": "ipython3",
   "version": "3.8.5"
  }
 },
 "nbformat": 4,
 "nbformat_minor": 2
}
